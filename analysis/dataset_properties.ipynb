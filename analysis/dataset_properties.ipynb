{
 "cells": [
  {
   "cell_type": "code",
   "execution_count": 1,
   "metadata": {},
   "outputs": [],
   "source": [
    "'''\n",
    "Script to print data properties such as:\n",
    "- FOV in pixels/mm\n",
    "- Cell densities\n",
    "'''\n",
    "\n",
    "import os\n",
    "import sys\n",
    "module_path = os.path.abspath(os.path.join('..'))\n",
    "if module_path not in sys.path:\n",
    "    sys.path.append(module_path)"
   ]
  },
  {
   "cell_type": "code",
   "execution_count": 2,
   "metadata": {},
   "outputs": [],
   "source": [
    "import json\n",
    "import numpy as np\n",
    "from scipy.stats import linregress\n",
    "from scipy.optimize import curve_fit\n",
    "\n",
    "from src.Segmentation3D import get_voxel_size_35mm\n",
    "from src.HolomonitorFunctions import get_pixel_size\n",
    "from src.FormatConversions import import_holomonitor_stack, import_tomocube_stack\n",
    "from src.CellSegmentation import *\n",
    "# from src.PlottingUtils import mean_dist\n",
    "# from src.NewSrc import *"
   ]
  },
  {
   "cell_type": "code",
   "execution_count": 4,
   "metadata": {},
   "outputs": [
    {
     "name": "stdout",
     "output_type": "stream",
     "text": [
      "Image resolution\n",
      "Holomonitor: 0.553711 x 0.553711\n",
      "Tomocube:    0.155433 x 0.155433\n",
      "Ratio H to T:       0.280711\n",
      "\n",
      "Ratio z to xy: 6.092310\n"
     ]
    }
   ],
   "source": [
    "# Image resolution\n",
    "pix_to_um = get_pixel_size()\n",
    "vox_to_um = get_voxel_size_35mm()\n",
    "\n",
    "print(f\"Image resolution\\nHolomonitor: {pix_to_um[0]:0.6f} x {pix_to_um[1]:0.6f}\\nTomocube:    {vox_to_um[1]} x {vox_to_um[2]}\\nRatio H to T:       {vox_to_um[1]/pix_to_um[0]:0.6f}\")\n",
    "print(f\"\\nRatio z to xy: {vox_to_um[0] / vox_to_um[1]:0.6f}\")"
   ]
  },
  {
   "cell_type": "code",
   "execution_count": 4,
   "metadata": {},
   "outputs": [],
   "source": [
    "files = [\"../../data/Holomonitor/MDCK_01.03.2024/B2-5\", \n",
    "         \"../../data/Holomonitor/MDCK_19.03.2024/A1-9\", \n",
    "         \"../../data/Holomonitor/MDCK_19.03.2024/A1-12\",\n",
    "         \"../../data/Holomonitor/MDCK_19.03.2024/A1-18\", \n",
    "         \"../../data/Holomonitor/MDCK_19.03.2024/B1-11\",\n",
    "         \"../../data/Holomonitor/MDCK_16.05.2024/B1-9\",\n",
    "         \"../../data/Holomonitor/MDCK_16.05.2024/A2-1\",\n",
    "         \"../../data/Holomonitor/MDCK_16.05.2024/A2-7\",\n",
    "         \"../../data/Holomonitor/MDCK_16.05.2024/B1-13\",\n",
    "         \"../../data/Holomonitor/MDCK_16.05.2024/B1-22\",\n",
    "         \"../../data/Holomonitor/MDCK_16.05.2024/B1-25\"]\n",
    "\n",
    "holo_dict = {\"files\": files, \n",
    "        \"fmin\":[188, 1, 1, 130, 1, 1, 1, 1, 1, 1, 1], \n",
    "        \"fmax\":[225, 181, 145, 181, 145, 145, 240, 160, 172, 110, 200],\n",
    "        \"blur_factor\":0.75}\n",
    "\n",
    "\n",
    "json.dump(holo_dict, open(\"../../data/Holomonitor/settings.txt\", \"w\"))"
   ]
  },
  {
   "cell_type": "code",
   "execution_count": 5,
   "metadata": {},
   "outputs": [],
   "source": [
    "files = [\"../../data/Tomocube/MDCK_10.02.2025/A2P1\"]\n",
    "\n",
    "dict = {\"files\": files, \n",
    "        \"fmin\":[1], \n",
    "        \"fmax\":[40],\n",
    "        \"blur_factor\":0.95}\n",
    "\n",
    "\n",
    "json.dump(dict, open(\"../../data/Tomocube/settings.txt\", \"w\"))"
   ]
  },
  {
   "cell_type": "code",
   "execution_count": 14,
   "metadata": {},
   "outputs": [
    {
     "ename": "FileNotFoundError",
     "evalue": "[Errno 2] No such file or directory: '../../data/Holomonitor/MDCK_19.03.2024/A1-18/cell_tracks.csv'",
     "output_type": "error",
     "traceback": [
      "\u001b[0;31m---------------------------------------------------------------------------\u001b[0m",
      "\u001b[0;31mFileNotFoundError\u001b[0m                         Traceback (most recent call last)",
      "Cell \u001b[0;32mIn[14], line 10\u001b[0m\n\u001b[1;32m      7\u001b[0m holo_dir  \u001b[38;5;241m=\u001b[39m \u001b[38;5;124m\"\u001b[39m\u001b[38;5;124m../../data/Holomonitor/MDCK_19.03.2024/\u001b[39m\u001b[38;5;124m\"\u001b[39m\n\u001b[1;32m      8\u001b[0m h_stack \u001b[38;5;241m=\u001b[39m import_holomonitor_stack(holo_dir, holo_file, f_min\u001b[38;5;241m=\u001b[39mfmin, f_max\u001b[38;5;241m=\u001b[39mfmax)\n\u001b[0;32m---> 10\u001b[0m df \u001b[38;5;241m=\u001b[39m \u001b[43mpd\u001b[49m\u001b[38;5;241;43m.\u001b[39;49m\u001b[43mread_csv\u001b[49m\u001b[43m(\u001b[49m\u001b[38;5;124;43mf\u001b[39;49m\u001b[38;5;124;43m\"\u001b[39;49m\u001b[38;5;132;43;01m{\u001b[39;49;00m\u001b[43mholo_dir\u001b[49m\u001b[38;5;132;43;01m}\u001b[39;49;00m\u001b[38;5;132;43;01m{\u001b[39;49;00m\u001b[43mholo_file\u001b[49m\u001b[38;5;132;43;01m}\u001b[39;49;00m\u001b[38;5;124;43m/cell_tracks.csv\u001b[39;49m\u001b[38;5;124;43m\"\u001b[39;49m\u001b[43m)\u001b[49m\n\u001b[1;32m     11\u001b[0m conversion \u001b[38;5;241m=\u001b[39m pix_to_um\n\u001b[1;32m     13\u001b[0m \u001b[38;5;66;03m# # Tomocube\u001b[39;00m\n\u001b[1;32m     14\u001b[0m \u001b[38;5;66;03m# tomo_dir  = \"../../data/Tomocube/MDCK_10.02.2025/A2P1\"\u001b[39;00m\n\u001b[1;32m     15\u001b[0m \u001b[38;5;66;03m# tomo_file = \"250210.113448.MDCK dynamics.001.MDCK B.A2\"\u001b[39;00m\n\u001b[0;32m   (...)\u001b[0m\n\u001b[1;32m     18\u001b[0m \u001b[38;5;66;03m# df = pd.read_csv(f\"{tomo_dir}/area_volume_filtered.csv\")\u001b[39;00m\n\u001b[1;32m     19\u001b[0m \u001b[38;5;66;03m# conversion = vox_to_um\u001b[39;00m\n",
      "File \u001b[0;32m~/Programs/miniconda3/lib/python3.10/site-packages/pandas/io/parsers/readers.py:912\u001b[0m, in \u001b[0;36mread_csv\u001b[0;34m(filepath_or_buffer, sep, delimiter, header, names, index_col, usecols, dtype, engine, converters, true_values, false_values, skipinitialspace, skiprows, skipfooter, nrows, na_values, keep_default_na, na_filter, verbose, skip_blank_lines, parse_dates, infer_datetime_format, keep_date_col, date_parser, date_format, dayfirst, cache_dates, iterator, chunksize, compression, thousands, decimal, lineterminator, quotechar, quoting, doublequote, escapechar, comment, encoding, encoding_errors, dialect, on_bad_lines, delim_whitespace, low_memory, memory_map, float_precision, storage_options, dtype_backend)\u001b[0m\n\u001b[1;32m    899\u001b[0m kwds_defaults \u001b[38;5;241m=\u001b[39m _refine_defaults_read(\n\u001b[1;32m    900\u001b[0m     dialect,\n\u001b[1;32m    901\u001b[0m     delimiter,\n\u001b[0;32m   (...)\u001b[0m\n\u001b[1;32m    908\u001b[0m     dtype_backend\u001b[38;5;241m=\u001b[39mdtype_backend,\n\u001b[1;32m    909\u001b[0m )\n\u001b[1;32m    910\u001b[0m kwds\u001b[38;5;241m.\u001b[39mupdate(kwds_defaults)\n\u001b[0;32m--> 912\u001b[0m \u001b[38;5;28;01mreturn\u001b[39;00m \u001b[43m_read\u001b[49m\u001b[43m(\u001b[49m\u001b[43mfilepath_or_buffer\u001b[49m\u001b[43m,\u001b[49m\u001b[43m \u001b[49m\u001b[43mkwds\u001b[49m\u001b[43m)\u001b[49m\n",
      "File \u001b[0;32m~/Programs/miniconda3/lib/python3.10/site-packages/pandas/io/parsers/readers.py:577\u001b[0m, in \u001b[0;36m_read\u001b[0;34m(filepath_or_buffer, kwds)\u001b[0m\n\u001b[1;32m    574\u001b[0m _validate_names(kwds\u001b[38;5;241m.\u001b[39mget(\u001b[38;5;124m\"\u001b[39m\u001b[38;5;124mnames\u001b[39m\u001b[38;5;124m\"\u001b[39m, \u001b[38;5;28;01mNone\u001b[39;00m))\n\u001b[1;32m    576\u001b[0m \u001b[38;5;66;03m# Create the parser.\u001b[39;00m\n\u001b[0;32m--> 577\u001b[0m parser \u001b[38;5;241m=\u001b[39m \u001b[43mTextFileReader\u001b[49m\u001b[43m(\u001b[49m\u001b[43mfilepath_or_buffer\u001b[49m\u001b[43m,\u001b[49m\u001b[43m \u001b[49m\u001b[38;5;241;43m*\u001b[39;49m\u001b[38;5;241;43m*\u001b[39;49m\u001b[43mkwds\u001b[49m\u001b[43m)\u001b[49m\n\u001b[1;32m    579\u001b[0m \u001b[38;5;28;01mif\u001b[39;00m chunksize \u001b[38;5;129;01mor\u001b[39;00m iterator:\n\u001b[1;32m    580\u001b[0m     \u001b[38;5;28;01mreturn\u001b[39;00m parser\n",
      "File \u001b[0;32m~/Programs/miniconda3/lib/python3.10/site-packages/pandas/io/parsers/readers.py:1407\u001b[0m, in \u001b[0;36mTextFileReader.__init__\u001b[0;34m(self, f, engine, **kwds)\u001b[0m\n\u001b[1;32m   1404\u001b[0m     \u001b[38;5;28mself\u001b[39m\u001b[38;5;241m.\u001b[39moptions[\u001b[38;5;124m\"\u001b[39m\u001b[38;5;124mhas_index_names\u001b[39m\u001b[38;5;124m\"\u001b[39m] \u001b[38;5;241m=\u001b[39m kwds[\u001b[38;5;124m\"\u001b[39m\u001b[38;5;124mhas_index_names\u001b[39m\u001b[38;5;124m\"\u001b[39m]\n\u001b[1;32m   1406\u001b[0m \u001b[38;5;28mself\u001b[39m\u001b[38;5;241m.\u001b[39mhandles: IOHandles \u001b[38;5;241m|\u001b[39m \u001b[38;5;28;01mNone\u001b[39;00m \u001b[38;5;241m=\u001b[39m \u001b[38;5;28;01mNone\u001b[39;00m\n\u001b[0;32m-> 1407\u001b[0m \u001b[38;5;28mself\u001b[39m\u001b[38;5;241m.\u001b[39m_engine \u001b[38;5;241m=\u001b[39m \u001b[38;5;28;43mself\u001b[39;49m\u001b[38;5;241;43m.\u001b[39;49m\u001b[43m_make_engine\u001b[49m\u001b[43m(\u001b[49m\u001b[43mf\u001b[49m\u001b[43m,\u001b[49m\u001b[43m \u001b[49m\u001b[38;5;28;43mself\u001b[39;49m\u001b[38;5;241;43m.\u001b[39;49m\u001b[43mengine\u001b[49m\u001b[43m)\u001b[49m\n",
      "File \u001b[0;32m~/Programs/miniconda3/lib/python3.10/site-packages/pandas/io/parsers/readers.py:1661\u001b[0m, in \u001b[0;36mTextFileReader._make_engine\u001b[0;34m(self, f, engine)\u001b[0m\n\u001b[1;32m   1659\u001b[0m     \u001b[38;5;28;01mif\u001b[39;00m \u001b[38;5;124m\"\u001b[39m\u001b[38;5;124mb\u001b[39m\u001b[38;5;124m\"\u001b[39m \u001b[38;5;129;01mnot\u001b[39;00m \u001b[38;5;129;01min\u001b[39;00m mode:\n\u001b[1;32m   1660\u001b[0m         mode \u001b[38;5;241m+\u001b[39m\u001b[38;5;241m=\u001b[39m \u001b[38;5;124m\"\u001b[39m\u001b[38;5;124mb\u001b[39m\u001b[38;5;124m\"\u001b[39m\n\u001b[0;32m-> 1661\u001b[0m \u001b[38;5;28mself\u001b[39m\u001b[38;5;241m.\u001b[39mhandles \u001b[38;5;241m=\u001b[39m \u001b[43mget_handle\u001b[49m\u001b[43m(\u001b[49m\n\u001b[1;32m   1662\u001b[0m \u001b[43m    \u001b[49m\u001b[43mf\u001b[49m\u001b[43m,\u001b[49m\n\u001b[1;32m   1663\u001b[0m \u001b[43m    \u001b[49m\u001b[43mmode\u001b[49m\u001b[43m,\u001b[49m\n\u001b[1;32m   1664\u001b[0m \u001b[43m    \u001b[49m\u001b[43mencoding\u001b[49m\u001b[38;5;241;43m=\u001b[39;49m\u001b[38;5;28;43mself\u001b[39;49m\u001b[38;5;241;43m.\u001b[39;49m\u001b[43moptions\u001b[49m\u001b[38;5;241;43m.\u001b[39;49m\u001b[43mget\u001b[49m\u001b[43m(\u001b[49m\u001b[38;5;124;43m\"\u001b[39;49m\u001b[38;5;124;43mencoding\u001b[39;49m\u001b[38;5;124;43m\"\u001b[39;49m\u001b[43m,\u001b[49m\u001b[43m \u001b[49m\u001b[38;5;28;43;01mNone\u001b[39;49;00m\u001b[43m)\u001b[49m\u001b[43m,\u001b[49m\n\u001b[1;32m   1665\u001b[0m \u001b[43m    \u001b[49m\u001b[43mcompression\u001b[49m\u001b[38;5;241;43m=\u001b[39;49m\u001b[38;5;28;43mself\u001b[39;49m\u001b[38;5;241;43m.\u001b[39;49m\u001b[43moptions\u001b[49m\u001b[38;5;241;43m.\u001b[39;49m\u001b[43mget\u001b[49m\u001b[43m(\u001b[49m\u001b[38;5;124;43m\"\u001b[39;49m\u001b[38;5;124;43mcompression\u001b[39;49m\u001b[38;5;124;43m\"\u001b[39;49m\u001b[43m,\u001b[49m\u001b[43m \u001b[49m\u001b[38;5;28;43;01mNone\u001b[39;49;00m\u001b[43m)\u001b[49m\u001b[43m,\u001b[49m\n\u001b[1;32m   1666\u001b[0m \u001b[43m    \u001b[49m\u001b[43mmemory_map\u001b[49m\u001b[38;5;241;43m=\u001b[39;49m\u001b[38;5;28;43mself\u001b[39;49m\u001b[38;5;241;43m.\u001b[39;49m\u001b[43moptions\u001b[49m\u001b[38;5;241;43m.\u001b[39;49m\u001b[43mget\u001b[49m\u001b[43m(\u001b[49m\u001b[38;5;124;43m\"\u001b[39;49m\u001b[38;5;124;43mmemory_map\u001b[39;49m\u001b[38;5;124;43m\"\u001b[39;49m\u001b[43m,\u001b[49m\u001b[43m \u001b[49m\u001b[38;5;28;43;01mFalse\u001b[39;49;00m\u001b[43m)\u001b[49m\u001b[43m,\u001b[49m\n\u001b[1;32m   1667\u001b[0m \u001b[43m    \u001b[49m\u001b[43mis_text\u001b[49m\u001b[38;5;241;43m=\u001b[39;49m\u001b[43mis_text\u001b[49m\u001b[43m,\u001b[49m\n\u001b[1;32m   1668\u001b[0m \u001b[43m    \u001b[49m\u001b[43merrors\u001b[49m\u001b[38;5;241;43m=\u001b[39;49m\u001b[38;5;28;43mself\u001b[39;49m\u001b[38;5;241;43m.\u001b[39;49m\u001b[43moptions\u001b[49m\u001b[38;5;241;43m.\u001b[39;49m\u001b[43mget\u001b[49m\u001b[43m(\u001b[49m\u001b[38;5;124;43m\"\u001b[39;49m\u001b[38;5;124;43mencoding_errors\u001b[39;49m\u001b[38;5;124;43m\"\u001b[39;49m\u001b[43m,\u001b[49m\u001b[43m \u001b[49m\u001b[38;5;124;43m\"\u001b[39;49m\u001b[38;5;124;43mstrict\u001b[39;49m\u001b[38;5;124;43m\"\u001b[39;49m\u001b[43m)\u001b[49m\u001b[43m,\u001b[49m\n\u001b[1;32m   1669\u001b[0m \u001b[43m    \u001b[49m\u001b[43mstorage_options\u001b[49m\u001b[38;5;241;43m=\u001b[39;49m\u001b[38;5;28;43mself\u001b[39;49m\u001b[38;5;241;43m.\u001b[39;49m\u001b[43moptions\u001b[49m\u001b[38;5;241;43m.\u001b[39;49m\u001b[43mget\u001b[49m\u001b[43m(\u001b[49m\u001b[38;5;124;43m\"\u001b[39;49m\u001b[38;5;124;43mstorage_options\u001b[39;49m\u001b[38;5;124;43m\"\u001b[39;49m\u001b[43m,\u001b[49m\u001b[43m \u001b[49m\u001b[38;5;28;43;01mNone\u001b[39;49;00m\u001b[43m)\u001b[49m\u001b[43m,\u001b[49m\n\u001b[1;32m   1670\u001b[0m \u001b[43m\u001b[49m\u001b[43m)\u001b[49m\n\u001b[1;32m   1671\u001b[0m \u001b[38;5;28;01massert\u001b[39;00m \u001b[38;5;28mself\u001b[39m\u001b[38;5;241m.\u001b[39mhandles \u001b[38;5;129;01mis\u001b[39;00m \u001b[38;5;129;01mnot\u001b[39;00m \u001b[38;5;28;01mNone\u001b[39;00m\n\u001b[1;32m   1672\u001b[0m f \u001b[38;5;241m=\u001b[39m \u001b[38;5;28mself\u001b[39m\u001b[38;5;241m.\u001b[39mhandles\u001b[38;5;241m.\u001b[39mhandle\n",
      "File \u001b[0;32m~/Programs/miniconda3/lib/python3.10/site-packages/pandas/io/common.py:859\u001b[0m, in \u001b[0;36mget_handle\u001b[0;34m(path_or_buf, mode, encoding, compression, memory_map, is_text, errors, storage_options)\u001b[0m\n\u001b[1;32m    854\u001b[0m \u001b[38;5;28;01melif\u001b[39;00m \u001b[38;5;28misinstance\u001b[39m(handle, \u001b[38;5;28mstr\u001b[39m):\n\u001b[1;32m    855\u001b[0m     \u001b[38;5;66;03m# Check whether the filename is to be opened in binary mode.\u001b[39;00m\n\u001b[1;32m    856\u001b[0m     \u001b[38;5;66;03m# Binary mode does not support 'encoding' and 'newline'.\u001b[39;00m\n\u001b[1;32m    857\u001b[0m     \u001b[38;5;28;01mif\u001b[39;00m ioargs\u001b[38;5;241m.\u001b[39mencoding \u001b[38;5;129;01mand\u001b[39;00m \u001b[38;5;124m\"\u001b[39m\u001b[38;5;124mb\u001b[39m\u001b[38;5;124m\"\u001b[39m \u001b[38;5;129;01mnot\u001b[39;00m \u001b[38;5;129;01min\u001b[39;00m ioargs\u001b[38;5;241m.\u001b[39mmode:\n\u001b[1;32m    858\u001b[0m         \u001b[38;5;66;03m# Encoding\u001b[39;00m\n\u001b[0;32m--> 859\u001b[0m         handle \u001b[38;5;241m=\u001b[39m \u001b[38;5;28;43mopen\u001b[39;49m\u001b[43m(\u001b[49m\n\u001b[1;32m    860\u001b[0m \u001b[43m            \u001b[49m\u001b[43mhandle\u001b[49m\u001b[43m,\u001b[49m\n\u001b[1;32m    861\u001b[0m \u001b[43m            \u001b[49m\u001b[43mioargs\u001b[49m\u001b[38;5;241;43m.\u001b[39;49m\u001b[43mmode\u001b[49m\u001b[43m,\u001b[49m\n\u001b[1;32m    862\u001b[0m \u001b[43m            \u001b[49m\u001b[43mencoding\u001b[49m\u001b[38;5;241;43m=\u001b[39;49m\u001b[43mioargs\u001b[49m\u001b[38;5;241;43m.\u001b[39;49m\u001b[43mencoding\u001b[49m\u001b[43m,\u001b[49m\n\u001b[1;32m    863\u001b[0m \u001b[43m            \u001b[49m\u001b[43merrors\u001b[49m\u001b[38;5;241;43m=\u001b[39;49m\u001b[43merrors\u001b[49m\u001b[43m,\u001b[49m\n\u001b[1;32m    864\u001b[0m \u001b[43m            \u001b[49m\u001b[43mnewline\u001b[49m\u001b[38;5;241;43m=\u001b[39;49m\u001b[38;5;124;43m\"\u001b[39;49m\u001b[38;5;124;43m\"\u001b[39;49m\u001b[43m,\u001b[49m\n\u001b[1;32m    865\u001b[0m \u001b[43m        \u001b[49m\u001b[43m)\u001b[49m\n\u001b[1;32m    866\u001b[0m     \u001b[38;5;28;01melse\u001b[39;00m:\n\u001b[1;32m    867\u001b[0m         \u001b[38;5;66;03m# Binary mode\u001b[39;00m\n\u001b[1;32m    868\u001b[0m         handle \u001b[38;5;241m=\u001b[39m \u001b[38;5;28mopen\u001b[39m(handle, ioargs\u001b[38;5;241m.\u001b[39mmode)\n",
      "\u001b[0;31mFileNotFoundError\u001b[0m: [Errno 2] No such file or directory: '../../data/Holomonitor/MDCK_19.03.2024/A1-18/cell_tracks.csv'"
     ]
    }
   ],
   "source": [
    "# Import data\n",
    "# Holomonitor\n",
    "dataset = 3\n",
    "fmin=holo_dict['fmin'][dataset]\n",
    "fmax=holo_dict['fmax'][dataset]\n",
    "holo_file = \"A1-18\"\n",
    "holo_dir  = \"../../data/Holomonitor/MDCK_19.03.2024/\"\n",
    "h_stack = import_holomonitor_stack(holo_dir, holo_file, f_min=fmin, f_max=fmax)\n",
    "\n",
    "df = pd.read_csv(f\"{holo_dir}{holo_file}/cell_tracks.csv\")\n",
    "conversion = pix_to_um\n",
    "\n",
    "# # Tomocube\n",
    "# tomo_dir  = \"../../data/Tomocube/MDCK_10.02.2025/A2P1\"\n",
    "# tomo_file = \"250210.113448.MDCK dynamics.001.MDCK B.A2\"\n",
    "# n_stack, h_stack = import_tomocube_stack(tomo_dir, tomo_file, vox_to_um[0], f_min=1)\n",
    "\n",
    "# df = pd.read_csv(f\"{tomo_dir}/area_volume_filtered.csv\")\n",
    "# conversion = vox_to_um"
   ]
  },
  {
   "cell_type": "code",
   "execution_count": null,
   "metadata": {},
   "outputs": [
    {
     "name": "stdout",
     "output_type": "stream",
     "text": [
      "FOV:\n",
      "556x556 µm² = 0.309 mm²\n",
      "1004x1004 pixels\n",
      "\n"
     ]
    }
   ],
   "source": [
    "# Size of FOV\n",
    "x_FOV = len(h_stack[0])*conversion[1]\n",
    "y_FOV = len(h_stack[0,0])*conversion[1]\n",
    "A_FOV = x_FOV * y_FOV * 1e-6\n",
    "\n",
    "print(f\"FOV:\\n{x_FOV:2.0f}x{y_FOV:2.0f} µm² = {A_FOV:0.3f} mm²\")\n",
    "print(f\"{len(h_stack[0]):2.0f}x{len(h_stack[0,0]):2.0f} pixels\\n\")"
   ]
  },
  {
   "cell_type": "code",
   "execution_count": null,
   "metadata": {},
   "outputs": [
    {
     "name": "stdout",
     "output_type": "stream",
     "text": [
      "Number of cells:\n",
      "387-528 cells\n",
      "\n",
      "Cell density:\n",
      "517-1996 cells/mm² \n",
      "0.26448118971061707\n"
     ]
    }
   ],
   "source": [
    "frame = 0\n",
    "N0_cells = np.sum(df.frame==frame)\n",
    "A0_cells = np.sum(df[df.frame==frame].A) * 1e-6\n",
    "\n",
    "frame = fmax-fmin-1\n",
    "Nf_cells = np.sum(df.frame==frame)\n",
    "Af_cells = np.sum(df[df.frame==frame].A) * 1e-6\n",
    "\n",
    "print(f\"Number of cells:\\n{N0_cells:0.0f}-{Nf_cells:0.0f} cells\\n\")\n",
    "print(f\"Cell density:\\n{N0_cells / A0_cells:0.0f}-{Nf_cells / Af_cells:0.0f} cells/mm² \")\n",
    "print(Af_cells)"
   ]
  },
  {
   "cell_type": "code",
   "execution_count": 9,
   "metadata": {},
   "outputs": [
    {
     "name": "stdout",
     "output_type": "stream",
     "text": [
      "2.200688904369648\n"
     ]
    },
    {
     "data": {
      "image/png": "[encoded data removed]",
      "text/plain": [
       "<Figure size 640x480 with 1 Axes>"
      ]
     },
     "metadata": {},
     "output_type": "display_data"
    }
   ],
   "source": [
    "# plot evolution of density\n",
    "max_frame = fmax-fmin\n",
    "density = [np.sum(df.frame==frame) / np.sum(df[df.frame==frame].A) * 1e6 for frame in range(max_frame)]\n",
    "n_cells = [np.sum(df.frame==frame) for frame in range(max_frame)]\n",
    "frames = np.arange(max_frame)\n",
    "\n",
    "plt.plot(frames/12, density, '.')\n",
    "plt.xlabel(\"time [h]\")\n",
    "plt.ylabel(\"density [1/mm²]\")\n",
    " \n",
    "def func(x, a, b):\n",
    "    return b * 2 ** (x/a)\n",
    "\n",
    "fit = linregress(frames, y=density)\n",
    "lin_fit = fit.intercept + fit.slope*frames\n",
    "plt.plot(frames/12, lin_fit, '--')\n",
    "\n",
    "param, popt = curve_fit(func, frames/12, density)\n",
    "plt.plot(frames/12, func(frames/12, *param))\n",
    "\n",
    "cell_fluct = np.std(density - lin_fit) / np.mean(density)\n",
    "print(cell_fluct*100)"
   ]
  },
  {
   "cell_type": "code",
   "execution_count": 34,
   "metadata": {},
   "outputs": [
    {
     "data": {
      "text/plain": [
       "16.3319816001445"
      ]
     },
     "execution_count": 34,
     "metadata": {},
     "output_type": "execute_result"
    }
   ],
   "source": [
    "doubling_time = np.mean((frames / 12) / np.log2(density / func(0, *param)))\n",
    "doubling_time"
   ]
  },
  {
   "cell_type": "code",
   "execution_count": 60,
   "metadata": {},
   "outputs": [
    {
     "name": "stdout",
     "output_type": "stream",
     "text": [
      "IN FRAME 19\n",
      "Total cell area:\n",
      "0.26 mm², 0.87 of total FOV\n",
      "\n",
      "Number of cells:\n",
      "503 cells\n",
      "\n",
      "Cell density:\n",
      "1920.61 cells/mm² (cell area)\n",
      "1672.53 cells/mm² (total area)\n"
     ]
    }
   ],
   "source": [
    "frame = 18\n",
    "N_cells = np.sum(df.frame==frame)\n",
    "A_cells = np.sum(df[df.frame==frame].A) * 1e-6\n",
    "\n",
    "print(f\"IN FRAME {frame+1:0.0f}\")\n",
    "print(f\"Total cell area:\\n{A_cells:0.2f} mm², {A_cells /A_FOV:0.2f} of total FOV\\n\")\n",
    "print(f\"Number of cells:\\n{N_cells:0.0f} cells\\n\")\n",
    "print(f\"Cell density:\\n{N_cells / A_cells:0.2f} cells/mm² (cell area)\\n{N_cells / A_FOV:0.2f} cells/mm² (total area)\")"
   ]
  },
  {
   "cell_type": "code",
   "execution_count": null,
   "metadata": {},
   "outputs": [],
   "source": []
  }
 ],
 "metadata": {
  "kernelspec": {
   "display_name": "base",
   "language": "python",
   "name": "python3"
  },
  "language_info": {
   "codemirror_mode": {
    "name": "ipython",
    "version": 3
   },
   "file_extension": ".py",
   "mimetype": "text/x-python",
   "name": "python",
   "nbconvert_exporter": "python",
   "pygments_lexer": "ipython3",
   "version": "3.10.9"
  }
 },
 "nbformat": 4,
 "nbformat_minor": 2
}
