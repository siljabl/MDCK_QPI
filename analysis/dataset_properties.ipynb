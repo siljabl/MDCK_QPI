{
 "cells": [
  {
   "cell_type": "code",
   "execution_count": 2,
   "metadata": {},
   "outputs": [],
   "source": [
    "'''\n",
    "Script to print data properties such as:\n",
    "- FOV in pixels/mm\n",
    "- Cell densities\n",
    "'''\n",
    "\n",
    "import os\n",
    "import sys\n",
    "module_path = os.path.abspath(os.path.join('..'))\n",
    "if module_path not in sys.path:\n",
    "    sys.path.append(module_path)"
   ]
  },
  {
   "cell_type": "code",
   "execution_count": 3,
   "metadata": {},
   "outputs": [],
   "source": [
    "import json\n",
    "import numpy as np\n",
    "from scipy.stats import linregress\n",
    "from scipy.optimize import curve_fit\n",
    "\n",
    "from src.Segmentation3D import get_voxel_size_35mm\n",
    "from src.HolomonitorFunctions import get_pixel_size\n",
    "from src.FormatConversions import import_holomonitor_stack, import_tomocube_stack\n",
    "from src.CellSegmentation import *\n",
    "# from src.PlottingUtils import mean_dist\n",
    "# from src.NewSrc import *"
   ]
  },
  {
   "cell_type": "code",
   "execution_count": 4,
   "metadata": {},
   "outputs": [
    {
     "name": "stdout",
     "output_type": "stream",
     "text": [
      "Image resolution\n",
      "Holomonitor: 0.553711 x 0.553711\n",
      "Tomocube:    0.155433 x 0.155433\n",
      "Ratio H to T:       0.280711\n",
      "\n",
      "Ratio z to xy: 0.164141\n"
     ]
    }
   ],
   "source": [
    "# Image resolution\n",
    "pix_to_um = get_pixel_size()\n",
    "vox_to_um = get_voxel_size_35mm()\n",
    "\n",
    "print(f\"Image resolution\\nHolomonitor: {pix_to_um[0]:0.6f} x {pix_to_um[1]:0.6f}\\nTomocube:    {vox_to_um[1]} x {vox_to_um[2]}\\nRatio H to T:       {vox_to_um[1]/pix_to_um[0]:0.6f}\")\n",
    "print(f\"\\nRatio z to xy: {vox_to_um[1] / vox_to_um[0]:0.6f}\")"
   ]
  },
  {
   "cell_type": "code",
   "execution_count": 5,
   "metadata": {},
   "outputs": [],
   "source": [
    "files = [\"../../data/Holomonitor/MDCK_01.03.2024/B2-5\", \n",
    "         \"../../data/Holomonitor/MDCK_19.03.2024/A1-9\", \n",
    "         \"../../data/Holomonitor/MDCK_19.03.2024/A1-12\",\n",
    "         \"../../data/Holomonitor/MDCK_19.03.2024/A1-18\", \n",
    "         \"../../data/Holomonitor/MDCK_19.03.2024/B1-11\",\n",
    "         \"../../data/Holomonitor/MDCK_16.05.2024/B1-9\",\n",
    "         \"../../data/Holomonitor/MDCK_16.05.2024/A2-1\",\n",
    "         \"../../data/Holomonitor/MDCK_16.05.2024/A2-7\",\n",
    "         \"../../data/Holomonitor/MDCK_16.05.2024/B1-13\",\n",
    "         \"../../data/Holomonitor/MDCK_16.05.2024/B1-22\",\n",
    "         \"../../data/Holomonitor/MDCK_16.05.2024/B1-25\"]\n",
    "\n",
    "holo_dict = {\"files\": files, \n",
    "        \"fmin\":[188, 1, 1, 130, 1, 1, 1, 1, 1, 1, 1], \n",
    "        \"fmax\":[225, 181, 145, 181, 145, 145, 240, 160, 172, 110, 200],\n",
    "        \"blur_factor\":0.75}\n",
    "\n",
    "\n",
    "json.dump(holo_dict, open(\"../../data/Holomonitor/settings.txt\", \"w\"))"
   ]
  },
  {
   "cell_type": "code",
   "execution_count": 6,
   "metadata": {},
   "outputs": [],
   "source": [
    "files = [\"../../data/Tomocube/MDCK_10.02.2025/A2P1\"]\n",
    "\n",
    "dict = {\"files\": files, \n",
    "        \"fmin\":[1], \n",
    "        \"fmax\":[40],\n",
    "        \"blur_factor\":0.95}\n",
    "\n",
    "\n",
    "json.dump(dict, open(\"../../data/Tomocube/settings.txt\", \"w\"))"
   ]
  },
  {
   "cell_type": "code",
   "execution_count": 7,
   "metadata": {},
   "outputs": [],
   "source": [
    "# Import data\n",
    "# Holomonitor\n",
    "dataset = 5\n",
    "fmin=holo_dict['fmin'][dataset]\n",
    "fmax=holo_dict['fmax'][dataset]\n",
    "holo_file = \"B1-9\"\n",
    "holo_dir  = \"../../data/Holomonitor/MDCK_16.05.2024/\"\n",
    "h_stack = import_holomonitor_stack(holo_dir, holo_file, f_min=fmin, f_max=fmax)\n",
    "\n",
    "df = pd.read_csv(f\"{holo_dir}{holo_file}/cell_tracks.csv\")\n",
    "conversion = pix_to_um\n",
    "\n",
    "# # Tomocube\n",
    "# tomo_dir  = \"../../data/Tomocube/MDCK_10.02.2025/A2P1\"\n",
    "# tomo_file = \"250210.113448.MDCK dynamics.001.MDCK B.A2\"\n",
    "# n_stack, h_stack = import_tomocube_stack(tomo_dir, tomo_file, vox_to_um[0], f_min=1)\n",
    "\n",
    "# df = pd.read_csv(f\"{tomo_dir}/area_volume_filtered.csv\")\n",
    "# conversion = vox_to_um"
   ]
  },
  {
   "cell_type": "code",
   "execution_count": 8,
   "metadata": {},
   "outputs": [
    {
     "name": "stdout",
     "output_type": "stream",
     "text": [
      "FOV:\n",
      "556x556 µm² = 0.309 mm²\n",
      "1004x1004 pixels\n",
      "\n"
     ]
    }
   ],
   "source": [
    "# Size of FOV\n",
    "x_FOV = len(h_stack[0])*conversion[1]\n",
    "y_FOV = len(h_stack[0,0])*conversion[1]\n",
    "A_FOV = x_FOV * y_FOV * 1e-6\n",
    "\n",
    "print(f\"FOV:\\n{x_FOV:2.0f}x{y_FOV:2.0f} µm² = {A_FOV:0.3f} mm²\")\n",
    "print(f\"{len(h_stack[0]):2.0f}x{len(h_stack[0,0]):2.0f} pixels\\n\")"
   ]
  },
  {
   "cell_type": "code",
   "execution_count": 9,
   "metadata": {},
   "outputs": [
    {
     "name": "stdout",
     "output_type": "stream",
     "text": [
      "Number of cells:\n",
      "387-712 cells\n",
      "\n",
      "Cell density:\n",
      "517-875 cells/mm² \n"
     ]
    }
   ],
   "source": [
    "frame = 0\n",
    "N0_cells = np.sum(df.frame==frame)\n",
    "A0_cells = np.sum(df[df.frame==frame].A) * 1e-6\n",
    "\n",
    "frame = fmax-fmin-1\n",
    "Nf_cells = np.sum(df.frame==frame)\n",
    "Af_cells = np.sum(df[df.frame==frame].A) * 1e-6\n",
    "\n",
    "print(f\"Number of cells:\\n{N0_cells:0.0f}-{Nf_cells:0.0f} cells\\n\")\n",
    "print(f\"Cell density:\\n{N0_cells / A0_cells:0.0f}-{Nf_cells / Af_cells:0.0f} cells/mm² \")"
   ]
  },
  {
   "cell_type": "code",
   "execution_count": null,
   "metadata": {},
   "outputs": [
    {
     "name": "stdout",
     "output_type": "stream",
     "text": [
      "2.5276740286694785\n"
     ]
    },
    {
     "data": {
      "image/png": "[encoded data removed]",
      "text/plain": [
       "<Figure size 640x480 with 1 Axes>"
      ]
     },
     "metadata": {},
     "output_type": "display_data"
    }
   ],
   "source": [
    "# plot evolution of density\n",
    "max_frame = fmax-fmin\n",
    "density = [np.sum(df.frame==frame) / np.sum(df[df.frame==frame].A) * 1e6 for frame in range(max_frame)]\n",
    "n_cells = [np.sum(df.frame==frame) for frame in range(max_frame)]\n",
    "frames = np.arange(max_frame)\n",
    "\n",
    "plt.plot(frames/12, density, '.')\n",
    "plt.xlabel(\"time [h]\")\n",
    "plt.ylabel(\"density [1/mm²]\")\n",
    " \n",
    "def func(x, a, b):\n",
    "    return b * 2 ** (x/a)\n",
    "\n",
    "fit = linregress(frames, y=density)\n",
    "lin_fit = fit.intercept + fit.slope*frames\n",
    "plt.plot(frames/12, lin_fit, '--')\n",
    "\n",
    "param, popt = curve_fit(func, frames/12, density)\n",
    "plt.plot(frames/12, func(frames/12, *param))\n",
    "\n",
    "cell_fluct = np.std(density - lin_fit) / np.mean(density)\n",
    "print(cell_fluct*100)"
   ]
  },
  {
   "cell_type": "code",
   "execution_count": 34,
   "metadata": {},
   "outputs": [
    {
     "data": {
      "text/plain": [
       "16.3319816001445"
      ]
     },
     "execution_count": 34,
     "metadata": {},
     "output_type": "execute_result"
    }
   ],
   "source": [
    "doubling_time = np.mean((frames / 12) / np.log2(density / func(0, *param)))\n",
    "doubling_time"
   ]
  },
  {
   "cell_type": "code",
   "execution_count": 60,
   "metadata": {},
   "outputs": [
    {
     "name": "stdout",
     "output_type": "stream",
     "text": [
      "IN FRAME 19\n",
      "Total cell area:\n",
      "0.26 mm², 0.87 of total FOV\n",
      "\n",
      "Number of cells:\n",
      "503 cells\n",
      "\n",
      "Cell density:\n",
      "1920.61 cells/mm² (cell area)\n",
      "1672.53 cells/mm² (total area)\n"
     ]
    }
   ],
   "source": [
    "frame = 18\n",
    "N_cells = np.sum(df.frame==frame)\n",
    "A_cells = np.sum(df[df.frame==frame].A) * 1e-6\n",
    "\n",
    "print(f\"IN FRAME {frame+1:0.0f}\")\n",
    "print(f\"Total cell area:\\n{A_cells:0.2f} mm², {A_cells /A_FOV:0.2f} of total FOV\\n\")\n",
    "print(f\"Number of cells:\\n{N_cells:0.0f} cells\\n\")\n",
    "print(f\"Cell density:\\n{N_cells / A_cells:0.2f} cells/mm² (cell area)\\n{N_cells / A_FOV:0.2f} cells/mm² (total area)\")"
   ]
  },
  {
   "cell_type": "code",
   "execution_count": null,
   "metadata": {},
   "outputs": [],
   "source": []
  }
 ],
 "metadata": {
  "kernelspec": {
   "display_name": "base",
   "language": "python",
   "name": "python3"
  },
  "language_info": {
   "codemirror_mode": {
    "name": "ipython",
    "version": 3
   },
   "file_extension": ".py",
   "mimetype": "text/x-python",
   "name": "python",
   "nbconvert_exporter": "python",
   "pygments_lexer": "ipython3",
   "version": "3.10.9"
  }
 },
 "nbformat": 4,
 "nbformat_minor": 2
}
