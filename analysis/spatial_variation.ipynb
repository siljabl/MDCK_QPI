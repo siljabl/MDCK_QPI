{
 "cells": [
  {
   "cell_type": "code",
   "execution_count": 1,
   "metadata": {},
   "outputs": [],
   "source": [
    "import os\n",
    "import sys\n",
    "module_path = os.path.abspath(os.path.join('..'))\n",
    "if module_path not in sys.path:\n",
    "    sys.path.append(module_path)"
   ]
  },
  {
   "cell_type": "code",
   "execution_count": 2,
   "metadata": {},
   "outputs": [],
   "source": [
    "import numpy as np\n",
    "import pandas as pd\n",
    "import seaborn as sns\n",
    "import matplotlib.pyplot as plt\n",
    "\n",
    "from tqdm import tqdm\n",
    "from cmcrameri import cm\n",
    "from scipy.ndimage import gaussian_filter\n",
    "from matplotlib.colors import LogNorm\n",
    "\n",
    "from src.AnalysisFunctions import *\n",
    "from src.Segmentation3D import get_voxel_size_35mm\n",
    "from src.HolomonitorFunctions import get_pixel_size\n",
    "from src.FormatConversions import import_holomonitor_stack, import_tomocube_stack"
   ]
  },
  {
   "cell_type": "code",
   "execution_count": 3,
   "metadata": {},
   "outputs": [],
   "source": [
    "# experimental parameters\n",
    "vox_to_um = get_voxel_size_35mm()\n",
    "pix_to_um = get_pixel_size()\n",
    "\n",
    "dt = 4 # h\n",
    "dt_holo = 12 # frames per hour\n",
    "dt_tomo = 4  # frames per hour\n",
    "rblur_holo = 0.75\n",
    "rblur_tomo = 0.9\n",
    "#holomonitor_scaling = 100\n",
    "\n",
    "fmin_holo = [188, 1, 1, 130, 1, 1] \n",
    "fmax_holo = [225, 181, 145, 181, 145, 145]\n",
    "\n",
    "fmin_tomo = 1\n",
    "fmax_tomo = 40"
   ]
  },
  {
   "cell_type": "code",
   "execution_count": 4,
   "metadata": {},
   "outputs": [
    {
     "data": {
      "image/png": "[encoded data removed]",
      "text/plain": [
       "<Figure size 640x480 with 1 Axes>"
      ]
     },
     "metadata": {},
     "output_type": "display_data"
    }
   ],
   "source": [
    "# Import Holomonitor\n",
    "holo_dir = [\"../../data/Holomonitor/MDCK_01.03.2024/\",\n",
    "            \"../../data/Holomonitor/MDCK_19.03.2024/\",\n",
    "            \"../../data/Holomonitor/MDCK_16.05.2024/\"]\n",
    "\n",
    "# holo_files = [\"A1-1\", \"B1-1\", \"A1-9\", \"A1-12\", \"A1-13\", \"B1-11\"]\n",
    "# holo_paths = [holo_dir[0], holo_dir[0], holo_dir[1], holo_dir[1], holo_dir[1], holo_dir[1]]\n",
    "\n",
    "holo_files = [\"B2-5\", \"A1-9\", \"A1-12\", \"A1-18\", \"B1-11\", \"B1-9\"]\n",
    "holo_paths = [holo_dir[0], holo_dir[1], holo_dir[1], holo_dir[1], holo_dir[1], holo_dir[2]]\n",
    "\n",
    "# Import Tomocube\n",
    "tomo_files = [\"250210.113448.MDCK dynamics.001.MDCK B.A2\"]\n",
    "tomo_paths  = [\"../../data/Tomocube/MDCK_10.02.2025/A2P1/\"]\n",
    "\n",
    "holo_colors = sns.color_palette(\"mako\", as_cmap=False)\n",
    "tomo_colors = sns.color_palette(\"flare\", as_cmap=False)\n",
    "h0, = plt.plot([0], marker='None', linestyle='None', label='dummy-tophead');"
   ]
  },
  {
   "cell_type": "code",
   "execution_count": 5,
   "metadata": {},
   "outputs": [
    {
     "name": "stdout",
     "output_type": "stream",
     "text": [
      "700.8571428571429\n",
      "587.2333333333333\n",
      "595.8333333333334\n",
      "541.0\n",
      "470.5\n",
      "573.0\n"
     ]
    }
   ],
   "source": [
    "# Holomonitor\n",
    "# settings\n",
    "stepsize = 6\n",
    "steps = int((np.max(fmax_holo) - np.min(fmin_holo)) / stepsize)\n",
    "\n",
    "density_pixel = np.zeros([len(holo_paths), steps])\n",
    "density_disk = np.zeros([len(holo_paths), steps])\n",
    "density_cell = np.zeros([len(holo_paths), steps])\n",
    "\n",
    "h_mean_pixel = np.zeros([len(holo_paths), steps])\n",
    "h_mean_disk  = np.zeros([len(holo_paths), steps])\n",
    "h_mean_cell  = np.zeros([len(holo_paths), steps])\n",
    "\n",
    "fluctuation_pixel = np.zeros([len(holo_paths), steps])\n",
    "fluctuation_disk  = np.zeros([len(holo_paths), steps])\n",
    "fluctuation_cell = np.zeros([len(holo_paths), steps])\n",
    "\n",
    "i = 0\n",
    "for path, file in zip(holo_paths, holo_files):\n",
    "    steps = int(np.ceil((fmax_holo[i] - fmin_holo[i]) / stepsize))\n",
    "\n",
    "    # import data\n",
    "    h_holo_full = import_holomonitor_stack(path, file, f_min=fmin_holo[i], f_max=fmax_holo[i])\n",
    "    df_holo_full = pd.read_csv(f\"{path}{file}/area_volume_filtered.csv\")\n",
    "\n",
    "    # disk wise data\n",
    "    h_holo = h_holo_full[0:fmax_holo[i]-fmin_holo[i]:stepsize]\n",
    "    hblur_holo = np.zeros_like(h_holo)\n",
    "    df_holo = pd.DataFrame()\n",
    "    j = 0\n",
    "    for frame in range(0, len(h_holo_full)-1, stepsize):\n",
    "        r_cell = average_cell_radius(df_holo_full, frame, pix_to_um, blur_factor=rblur_holo)\n",
    "        hblur_holo[j] = gaussian_filter(h_holo[j], r_cell)\n",
    "\n",
    "        df_tmp = df_holo_full[df_holo_full.frame == frame]\n",
    "        df_tmp.loc[:,'frame'] = j\n",
    "        df_holo = pd.concat([df_holo, df_tmp])\n",
    "        j += 1\n",
    "\n",
    "    # Compute fluctuation\n",
    "    density_pixel[i,:steps], h_mean_pixel[i,:steps], fluctuation_pixel[i,:steps] = compute_flatness(h_holo,     df_holo)\n",
    "    density_disk[i,:steps],  h_mean_disk[i,:steps],  fluctuation_disk[i,:steps]  = compute_flatness(hblur_holo[:,r_cell:-r_cell, r_cell:-r_cell], df_holo)\n",
    "\n",
    "    density_cell[i,:steps],  h_mean_cell[i,:steps],  fluctuation_cell[i,:steps] = compute_flatness_cellwise(df_holo, fmin=df_holo.frame.min(), fmax=df_holo.frame.max()+1)\n",
    "\n",
    "    i += 1"
   ]
  },
  {
   "cell_type": "code",
   "execution_count": 12,
   "metadata": {},
   "outputs": [],
   "source": [
    "density    = np.concatenate(density_pixel) * 1e6\n",
    "fluct_pix  = np.concatenate(fluctuation_pixel)\n",
    "fluct_disk = np.concatenate(fluctuation_disk)\n",
    "fluct_cell = np.concatenate(fluctuation_cell)\n",
    "\n",
    "fluct_pix  = fluct_pix[density>0]\n",
    "fluct_disk = fluct_disk[density>0]\n",
    "fluct_cell = fluct_cell[density>0]\n",
    "density    = density[density>0]"
   ]
  },
  {
   "cell_type": "code",
   "execution_count": 13,
   "metadata": {},
   "outputs": [],
   "source": [
    "bin_size = 100\n",
    "min_density = 1550\n",
    "max_density = 2750\n",
    "n_bins = int((max_density - min_density) / bin_size)\n",
    "\n",
    "binned_density = np.zeros(n_bins)\n",
    "mean_pixel, std_pixel = np.zeros(n_bins), np.zeros(n_bins)\n",
    "mean_disk,  std_disk  = np.zeros(n_bins), np.zeros(n_bins)\n",
    "mean_cell,  std_cell  = np.zeros(n_bins), np.zeros(n_bins)\n",
    "mean_corr,  std_corr  = np.zeros(n_bins), np.zeros(n_bins)\n",
    "\n",
    "#correlation_lenght = correlation_lenght[:, :len(density[0])]\n",
    "for i in range(n_bins):\n",
    "    mask = (density >= min_density + i*bin_size) * (density < min_density + (i+1)*bin_size)\n",
    "    binned_density[i] = min_density + (i+0.5)*bin_size\n",
    "\n",
    "    mean_pixel[i] = np.mean(fluct_pix[mask])*100\n",
    "    mean_disk[i]  = np.mean(fluct_disk[mask])*100\n",
    "    mean_cell[i]  = np.mean(fluct_cell[mask])*100\n",
    "\n",
    "    std_pixel[i]  = (np.std(fluct_pix[mask],  ddof=1) / np.sqrt(np.sum(mask)))*100\n",
    "    std_disk[i]   = (np.std(fluct_disk[mask], ddof=1) / np.sqrt(np.sum(mask)))*100\n",
    "    std_cell[i]   = (np.std(fluct_cell[mask], ddof=1) / np.sqrt(np.sum(mask)))*100\n",
    "\n",
    "    #print(np.sum(mask))"
   ]
  },
  {
   "cell_type": "code",
   "execution_count": 17,
   "metadata": {},
   "outputs": [
    {
     "name": "stdout",
     "output_type": "stream",
     "text": [
      "Relative error:\n",
      "Pixel wise (30.5 ± 0.7)%\n",
      "Disk wise  (19.0 ± 0.6)%\n",
      "Cell wise  (19.4 ± 0.5)%\n",
      "\n"
     ]
    },
    {
     "ename": "IndexError",
     "evalue": "index 1 is out of bounds for axis 0 with size 1",
     "output_type": "error",
     "traceback": [
      "\u001b[0;31m---------------------------------------------------------------------------\u001b[0m",
      "\u001b[0;31mIndexError\u001b[0m                                Traceback (most recent call last)",
      "Cell \u001b[0;32mIn[17], line 5\u001b[0m\n\u001b[1;32m      2\u001b[0m sns\u001b[38;5;241m.\u001b[39mset_theme(style\u001b[38;5;241m=\u001b[39m\u001b[38;5;124m'\u001b[39m\u001b[38;5;124mticks\u001b[39m\u001b[38;5;124m'\u001b[39m, palette\u001b[38;5;241m=\u001b[39m\u001b[38;5;124m'\u001b[39m\u001b[38;5;124mdark\u001b[39m\u001b[38;5;124m'\u001b[39m, font_scale\u001b[38;5;241m=\u001b[39m\u001b[38;5;241m1.2\u001b[39m)\n\u001b[1;32m      4\u001b[0m \u001b[38;5;28;01mfor\u001b[39;00m i \u001b[38;5;129;01min\u001b[39;00m \u001b[38;5;28mrange\u001b[39m(\u001b[38;5;28mlen\u001b[39m(holo_files)):\n\u001b[0;32m----> 5\u001b[0m     mask \u001b[38;5;241m=\u001b[39m \u001b[43mdensity_pixel\u001b[49m\u001b[43m[\u001b[49m\u001b[43mi\u001b[49m\u001b[43m]\u001b[49m \u001b[38;5;241m>\u001b[39m \u001b[38;5;241m0\u001b[39m\n\u001b[1;32m      6\u001b[0m     \u001b[38;5;28mprint\u001b[39m(\u001b[38;5;124mf\u001b[39m\u001b[38;5;124m\"\u001b[39m\u001b[38;5;124mRelative error:\u001b[39m\u001b[38;5;130;01m\\n\u001b[39;00m\u001b[38;5;124mPixel wise (\u001b[39m\u001b[38;5;132;01m{\u001b[39;00mnp\u001b[38;5;241m.\u001b[39mmean(fluctuation_pixel[i][mask])\u001b[38;5;241m*\u001b[39m\u001b[38;5;241m100\u001b[39m\u001b[38;5;132;01m:\u001b[39;00m\u001b[38;5;124m0.1f\u001b[39m\u001b[38;5;132;01m}\u001b[39;00m\u001b[38;5;124m ± \u001b[39m\u001b[38;5;132;01m{\u001b[39;00mnp\u001b[38;5;241m.\u001b[39mstd(fluctuation_pixel[i][mask])\u001b[38;5;241m*\u001b[39m\u001b[38;5;241m100\u001b[39m\u001b[38;5;241m/\u001b[39mnp\u001b[38;5;241m.\u001b[39msqrt(np\u001b[38;5;241m.\u001b[39msum(mask))\u001b[38;5;132;01m:\u001b[39;00m\u001b[38;5;124m0.1f\u001b[39m\u001b[38;5;132;01m}\u001b[39;00m\u001b[38;5;124m)%\u001b[39m\u001b[38;5;124m\"\u001b[39m)\n\u001b[1;32m      7\u001b[0m     \u001b[38;5;28mprint\u001b[39m(\u001b[38;5;124mf\u001b[39m\u001b[38;5;124m\"\u001b[39m\u001b[38;5;124mDisk wise  (\u001b[39m\u001b[38;5;132;01m{\u001b[39;00mnp\u001b[38;5;241m.\u001b[39mmean(fluctuation_disk[i][mask])\u001b[38;5;241m*\u001b[39m\u001b[38;5;241m100\u001b[39m\u001b[38;5;132;01m:\u001b[39;00m\u001b[38;5;124m0.1f\u001b[39m\u001b[38;5;132;01m}\u001b[39;00m\u001b[38;5;124m ± \u001b[39m\u001b[38;5;132;01m{\u001b[39;00mnp\u001b[38;5;241m.\u001b[39mstd(fluctuation_disk[i][mask])\u001b[38;5;241m*\u001b[39m\u001b[38;5;241m100\u001b[39m\u001b[38;5;241m/\u001b[39mnp\u001b[38;5;241m.\u001b[39msqrt(np\u001b[38;5;241m.\u001b[39msum(mask))\u001b[38;5;132;01m:\u001b[39;00m\u001b[38;5;124m0.1f\u001b[39m\u001b[38;5;132;01m}\u001b[39;00m\u001b[38;5;124m)%\u001b[39m\u001b[38;5;124m\"\u001b[39m)\n",
      "\u001b[0;31mIndexError\u001b[0m: index 1 is out of bounds for axis 0 with size 1"
     ]
    },
    {
     "data": {
      "image/png": "[encoded data removed]",
      "text/plain": [
       "<Figure size 750x300 with 1 Axes>"
      ]
     },
     "metadata": {},
     "output_type": "display_data"
    }
   ],
   "source": [
    "fig, ax = plt.subplots(1,1, figsize=(7.5,3), sharey=False)\n",
    "sns.set_theme(style='ticks', palette='dark', font_scale=1.2)\n",
    "\n",
    "for i in range(len(holo_files)):\n",
    "    mask = density_pixel[i] > 0\n",
    "    print(f\"Relative error:\\nPixel wise ({np.mean(fluctuation_pixel[i][mask])*100:0.1f} ± {np.std(fluctuation_pixel[i][mask])*100/np.sqrt(np.sum(mask)):0.1f})%\")\n",
    "    print(f\"Disk wise  ({np.mean(fluctuation_disk[i][mask])*100:0.1f} ± {np.std(fluctuation_disk[i][mask])*100/np.sqrt(np.sum(mask)):0.1f})%\")\n",
    "    print(f\"Cell wise  ({np.mean(fluctuation_cell[i][mask])*100:0.1f} ± {np.std(fluctuation_cell[i][mask])*100/np.sqrt(np.sum(mask)):0.1f})%\\n\")\n",
    "    \n",
    "lw = 2\n",
    "ms = 5\n",
    "h2_1=ax.errorbar(binned_density, mean_pixel, yerr=std_pixel, fmt=\".\", lw=lw, ms=ms,   capsize=2, capthick=2, label=\"pixel\", color='blue')\n",
    "h2_2=ax.errorbar(binned_density, mean_disk,  yerr=std_disk,  fmt=\"o\", lw=lw, ms=ms,   capsize=2, capthick=2, label=\"disk\",  color='cornflowerblue')\n",
    "h2_3=ax.errorbar(binned_density, mean_cell,  yerr=std_cell,  fmt=\"p\", lw=lw, ms=ms+1, capsize=2, capthick=2, label=\"cell\",  color='darkblue')"
   ]
  },
  {
   "cell_type": "code",
   "execution_count": 15,
   "metadata": {},
   "outputs": [],
   "source": [
    "# tomomonitor\n",
    "# settings\n",
    "stepsize = 2\n",
    "steps = int((fmax_tomo - fmin_tomo)/stepsize) + 1\n",
    "\n",
    "density_pixel = np.zeros([len(tomo_paths), steps])\n",
    "density_disk  = np.zeros([len(tomo_paths), steps])\n",
    "density_cell  = np.zeros([len(tomo_paths), steps])\n",
    "\n",
    "h_mean_pixel = np.zeros([len(tomo_paths), steps])\n",
    "h_mean_disk  = np.zeros([len(tomo_paths), steps])\n",
    "h_mean_cell  = np.zeros([len(tomo_paths), steps])\n",
    "\n",
    "fluctuation_pixel = np.zeros([len(tomo_paths), steps])\n",
    "fluctuation_disk  = np.zeros([len(tomo_paths), steps])\n",
    "fluctuation_cell  = np.zeros([len(tomo_paths), steps])\n",
    "\n",
    "correlation_lenght = np.zeros([len(tomo_paths), fmax_tomo])\n",
    "\n",
    "i = 0\n",
    "for path, file in zip(tomo_paths, tomo_files):\n",
    "    # steps = int(np.ceil((fmax_tomo[i] - fmin_tomo[i]) / stepsize))\n",
    "\n",
    "    # import data\n",
    "    h_tomo_full  = import_tomocube_stack(path, file, f_min=fmin_tomo, f_max=fmax_tomo, h_scaling=vox_to_um[0])[1]\n",
    "    df_tomo_full = pd.read_csv(f\"{path}/area_volume_filtered.csv\")\n",
    "\n",
    "    # disk wise data\n",
    "    h_tomo = h_tomo_full[0:fmax_tomo-fmin_tomo:stepsize]\n",
    "    hblur_tomo = np.zeros_like(h_tomo)\n",
    "    df_tomo = pd.DataFrame()\n",
    "\n",
    "    j = 0\n",
    "    for frame in range(0, len(h_tomo_full)-1, stepsize):\n",
    "        r_cell = average_cell_radius(df_tomo_full, frame, vox_to_um, blur_factor=rblur_tomo)\n",
    "        hblur_tomo[j] = gaussian_filter(h_tomo[j], r_cell)\n",
    "\n",
    "        df_tmp = df_tomo_full[df_tomo_full.frame == frame]\n",
    "        df_tmp.loc[:,'frame'] = j\n",
    "        df_tomo = pd.concat([df_tomo, df_tmp])\n",
    "        j += 1\n",
    "    \n",
    "    # Compute fluctuation\n",
    "    density_pixel[i], h_mean_pixel[i], fluctuation_pixel[i] = compute_flatness(h_tomo,     df_tomo)\n",
    "    density_disk[i],  h_mean_disk[i],  fluctuation_disk[i]  = compute_flatness(hblur_tomo[:, r_cell:-r_cell, r_cell:-r_cell], df_tomo)\n",
    "    density_cell[i],  h_mean_cell[i],  fluctuation_cell[i]  = compute_flatness_cellwise(df_tomo, fmin=df_tomo.frame.min(), fmax=df_tomo.frame.max()+1) \n",
    "\n",
    "    i += 1"
   ]
  },
  {
   "cell_type": "code",
   "execution_count": 16,
   "metadata": {},
   "outputs": [],
   "source": [
    "density = density_pixel * 1e6 ## in [mm²]\n",
    "bin_size = 100\n",
    "\n",
    "# min_density = 1600\n",
    "# max_density = 2700\n",
    "# n_bins = int((max_density - min_density) / bin_size)\n",
    "n_bins = int((density.max() - density.min()) / bin_size)\n",
    "\n",
    "binned_density = np.zeros(n_bins)\n",
    "mean_pixel, std_pixel = np.zeros(n_bins), np.zeros(n_bins)\n",
    "mean_disk,  std_disk  = np.zeros(n_bins), np.zeros(n_bins)\n",
    "mean_cell,  std_cell  = np.zeros(n_bins), np.zeros(n_bins)\n",
    "mean_corr,  std_corr  = np.zeros(n_bins), np.zeros(n_bins)\n",
    "\n",
    "for i in range(n_bins):\n",
    "    mask = (density >= density.min() + i*bin_size) * (density < density.min() + (i+1)*bin_size)\n",
    "    binned_density[i] = density.min() + (i+0.5)*bin_size\n",
    "\n",
    "    mean_pixel[i] = np.mean(fluctuation_pixel[mask])*100\n",
    "    mean_disk[i]  = np.mean(fluctuation_disk[mask])*100\n",
    "    mean_cell[i]  = np.mean(fluctuation_cell[mask])*100\n",
    "\n",
    "    std_pixel[i]  = (np.std(fluctuation_pixel[mask]) / np.sqrt(np.sum(mask)))*100\n",
    "    std_disk[i]   = (np.std(fluctuation_disk[mask])  / np.sqrt(np.sum(mask)))*100\n",
    "    std_cell[i]   = (np.std(fluctuation_cell[mask])  / np.sqrt(np.sum(mask)))*100\n",
    "\n",
    "    #print(np.sum(mask))"
   ]
  },
  {
   "cell_type": "code",
   "execution_count": 18,
   "metadata": {},
   "outputs": [
    {
     "name": "stdout",
     "output_type": "stream",
     "text": [
      "relative error:\\Pixel wise (30.5 ± 0.7)%\n",
      "Disk wise  (19.0 ± 0.6)%\n",
      "Cell wise  (19.4 ± 0.5)%\n"
     ]
    },
    {
     "data": {
      "image/png": "[encoded data removed]",
      "text/plain": [
       "<Figure size 750x300 with 1 Axes>"
      ]
     },
     "execution_count": 18,
     "metadata": {},
     "output_type": "execute_result"
    }
   ],
   "source": [
    "for i in range(len(tomo_files)):\n",
    "    print(f\"relative error:\\Pixel wise ({np.mean(fluctuation_pixel[i])*100:0.1f} ± {np.std(fluctuation_pixel[i])*100 / np.sqrt(np.sum(mask)):0.1f})%\")\n",
    "    print(f\"Disk wise  ({np.mean(fluctuation_disk[i])*100:0.1f} ± {np.std(fluctuation_disk[i])*100 / np.sqrt(np.sum(mask)):0.1f})%\")\n",
    "    print(f\"Cell wise  ({np.mean(fluctuation_cell[i])*100:0.1f} ± {np.std(fluctuation_cell[i])*100 / np.sqrt(np.sum(mask)):0.1f})%\")\n",
    "    \n",
    "lw = 2\n",
    "ms = 5\n",
    "h3_1=ax.errorbar(binned_density, mean_pixel, yerr=std_pixel, fmt=\".\", lw=lw, ms=ms,   capsize=2, capthick=1, label=\"pixel\", c='orangered')\n",
    "h3_2=ax.errorbar(binned_density, mean_disk,  yerr=std_disk,  fmt=\"o\", lw=lw, ms=ms,   capsize=2, capthick=1, label=\"disk\",  c='coral')\n",
    "h3_3=ax.errorbar(binned_density, mean_cell,  yerr=std_cell,  fmt=\"p\", lw=lw, ms=ms+1, capsize=2, capthick=1, label=\"cell\",  c='maroon')\n",
    "\n",
    "ax.set(xlabel=r\"$\\rho_{cell} ~[mm^{-2}]$\", ylabel=r\"$\\hat{\\sigma}_{h,xy} ~[\\%] $\");\n",
    "\n",
    "fig.tight_layout(rect=[0, 0, 0.85, 1.05])\n",
    "ax.legend([h0, h2_1, h2_2, h2_3, h0, h0, h3_1, h3_2, h3_3],\n",
    "          [r'$\\hat{\\sigma}_{h2,xy}$', 'pixel', 'disk', 'cell', '', r'$\\hat{\\sigma}_{h3,xy}$', 'pixel', 'disk', 'cell'],\n",
    "           loc='upper center',\n",
    "           bbox_to_anchor=(1.1, 1.1),\n",
    "           frameon=False,\n",
    "           alignment='center')\n",
    "fig"
   ]
  },
  {
   "cell_type": "code",
   "execution_count": 37,
   "metadata": {},
   "outputs": [],
   "source": [
    "fig.savefig(\"../../figs/flatness/spatial_height_variation.png\", dpi=300)"
   ]
  },
  {
   "cell_type": "code",
   "execution_count": null,
   "metadata": {},
   "outputs": [],
   "source": []
  }
 ],
 "metadata": {
  "kernelspec": {
   "display_name": "base",
   "language": "python",
   "name": "python3"
  },
  "language_info": {
   "codemirror_mode": {
    "name": "ipython",
    "version": 3
   },
   "file_extension": ".py",
   "mimetype": "text/x-python",
   "name": "python",
   "nbconvert_exporter": "python",
   "pygments_lexer": "ipython3",
   "version": "3.10.9"
  }
 },
 "nbformat": 4,
 "nbformat_minor": 2
}
